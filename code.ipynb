{
 "cells": [
  {
   "cell_type": "markdown",
   "metadata": {},
   "source": [
    "# Name: Thanh Quyen, Nguyen\n",
    "\n",
    "# Topic: \n",
    "Volatility spillovers in commodity markets: A large t-vector autoregressive approach"
   ]
  },
  {
   "cell_type": "markdown",
   "metadata": {},
   "source": [
    "## package and functions"
   ]
  },
  {
   "cell_type": "code",
   "execution_count": 1,
   "metadata": {},
   "outputs": [],
   "source": [
    "import pandas\n",
    "import datetime\n",
    "import numpy\n",
    "import matplotlib.pyplot as plt\n",
    "import scipy.linalg\n",
    "from scipy.optimize import minimize\n",
    "from functools import reduce\n",
    "import pickle\n",
    "import seaborn as sns\n",
    "from statsmodels.tsa.stattools import adfuller"
   ]
  },
  {
   "cell_type": "code",
   "execution_count": 2,
   "metadata": {},
   "outputs": [],
   "source": [
    "def get_df(tckr_list=['WTI', 'GASOLINE', 'HH', 'ETHANOL', 'CORN', 'WHEAT', 'SOYBEAN', 'SUGAR', 'COTTON', 'COFFE']):#, start_date, end_date):\n",
    "    \"\"\"get the whole log data for analysis and modelling\"\"\"\n",
    "    df = pandas.read_csv(r'C:\\Users\\DELL\\Desktop\\FinEco\\data.csv')\n",
    "    dfs = []\n",
    "    for tckr in tckr_list:\n",
    "        data = df[(df['REGION'] == tckr)][['DATE', 'VOL']].sort_values(by='DATE', ascending=True)\n",
    "        data.rename(columns={'VOL':tckr}, inplace=True)\n",
    "        dfs.append(data)\n",
    "    data = reduce(lambda left, right: pandas.merge(left, right, on='DATE'), dfs)\n",
    "    data.reset_index(inplace=True, drop=True)\n",
    "    data.DATE = pandas.to_datetime(data.DATE)\n",
    "    non_zero_data = pandas.DataFrame(numpy.where(data.iloc[:,1:] > 0, data.iloc[:,1:], 10 ** (-10)))\n",
    "    non_zero_data.columns = tckr_list\n",
    "    log_data = pandas.DataFrame(data.DATE)\n",
    "    log_data = pandas.concat([log_data, numpy.log(non_zero_data)], axis = 1)\n",
    "    return log_data\n",
    "\n",
    "\n",
    "def get_ts(start_date, estimation_length, no_lag):\n",
    "    \"\"\"get time series with specific start of the series, and number of lag for model to ensure estimation length meets requirements\"\"\"\n",
    "    data = get_df()\n",
    "    Y = data[data.DATE >= start_date]\n",
    "    Y = Y.iloc[:estimation_length + no_lag,:]\n",
    "    Y.reset_index(drop=True, inplace=True)\n",
    "    return Y\n",
    "\n",
    "\n",
    "def get_input(start_date, estimation_length, no_lag):\n",
    "    \"\"\"get X, Y\"\"\"\n",
    "    Y = get_ts(start_date, estimation_length, no_lag)\n",
    "    index = Y.DATE\n",
    "    columns = Y.columns[1:]\n",
    "    Y.drop('DATE', axis = 1, inplace=True)\n",
    "    #Y = pandas.DataFrame(numpy.where(Y > 0, Y, 10 ** (-10)))\n",
    "    Y.columns = columns\n",
    "    Y.index = index\n",
    "    #columns = Y.columns\n",
    "    #X = pandas.DataFrame(numpy.ones(Y.shape[0]))\n",
    "    #X.index = Y.index\n",
    "    X = pandas.DataFrame()\n",
    "    X_cols = [] #['INTERCEPT']\n",
    "    for l in range(1, no_lag + 1):\n",
    "        X = pandas.concat([X, Y.iloc[:,:10].shift(l)], axis=1)\n",
    "        col_names = [col + '_L' + str(l) for col in columns]\n",
    "        X_cols += col_names\n",
    "        X.columns = X_cols\n",
    "    X['INTERCEPT'] = numpy.ones(X.shape[0])\n",
    "    X.dropna(inplace=True)\n",
    "    Y = Y[Y.index.isin(X.index)]\n",
    "    return X, Y\n",
    "\n",
    "def get_predictors(ts, pred_start, no_lag):\n",
    "    \"\"\"get X for forecasting\"\"\"\n",
    "    if ts is None:\n",
    "        #ts = get_ts(pred_start-datetime.timedelta(days=no_lag), 0, no_lag+1).iloc[:, 1:]\n",
    "        ts = get_df()\n",
    "        ts = ts[ts['DATE'] <= pred_start]\n",
    "        ts = ts.iloc[-no_lag-1:,1:]\n",
    "    columns = ts.columns\n",
    "    #ts.drop('DATE', axis=1, inplace=True)\n",
    "    #X = pandas.DataFrame(numpy.ones(no_lag))\n",
    "    X = pandas.DataFrame()\n",
    "    X_cols = []#['INTERCEPT']\n",
    "    for l in range(1, no_lag + 1):\n",
    "        X = pandas.concat([X, ts.iloc[:, :10].shift(l)], axis=1)\n",
    "        col_names = [col + '_L' + str(l) for col in columns]\n",
    "        X_cols += col_names\n",
    "        X.columns = X_cols\n",
    "    X['INTERCEPT'] = numpy.ones(X.shape[0])\n",
    "    X = X.iloc[-1:,:]\n",
    "    return X, ts.iloc[:-1,:]\n",
    "\n",
    "def pickle_write(file_name, object):\n",
    "    with open(file_name, 'wb') as handle:\n",
    "        pickle.dump(object, handle)\n",
    "\n",
    "def pickle_load(file_name = 'forecast_error_h5.pickle'):\n",
    "    with open(file_name, 'rb') as handle:\n",
    "        error = pickle.load(handle)\n",
    "    return error\n",
    "\n",
    "class Lasso:\n",
    "    \"\"\"define loss function, optimize process and algorithms for Gaussian and t-Lasso estimation\"\"\"\n",
    "\n",
    "    def _pred(self,X,w):\n",
    "        \"\"\"get y_hat (fitted value) or prediction\"\"\"\n",
    "        return numpy.dot(X,w)\n",
    "\n",
    "    \"\"\"def LossLasso(self,weights,X,y,alpha):\n",
    "        w = numpy.reshape(weights, (-1, y.shape[0]))\n",
    "        yp = self._pred(X,w)\n",
    "        #loss = numpy.linalg.norm(y - yp.transpose())**2 + alpha * numpy.sum(abs(w))\n",
    "        loss = numpy.trace(numpy.dot(y-yp.transpose(), (y-yp.transpose()).transpose())) + alpha * numpy.sum(abs(w))\n",
    "        return loss\n",
    "\n",
    "    def fit(self,X,y,alpha=0.0):\n",
    "        #initw = numpy.random.rand(X.shape[1]) #initial weights\n",
    "        initw = numpy.zeros((X.shape[1], y.shape[0]))\n",
    "        res = minimize(self.LossLasso,\n",
    "                    initw,\n",
    "                    args=(X,y,alpha),\n",
    "                    method='Powell')\n",
    "        return res\"\"\"\n",
    "\n",
    "    def tLasso_weightedData(self, *args):\n",
    "        \"\"\"get weighted X, Y for t-lasso\"\"\"\n",
    "        dg_freedom = args[0]\n",
    "        dimension = args[1]\n",
    "        omega = args[2]\n",
    "        resi = args[3]\n",
    "        tau = (dg_freedom + dimension)/(dg_freedom + numpy.dot(numpy.dot(resi, omega), resi.transpose()))\n",
    "        T = numpy.diag(numpy.diag(tau))\n",
    "        X = numpy.dot(scipy.linalg.sqrtm(T), args[4].iloc[:, :-1])\n",
    "        Y = numpy.dot(scipy.linalg.sqrtm(T), args[5])\n",
    "        return X, Y\n",
    "    \n",
    "    def GaussLasso(self, beta, X, y, Omega, alpha, gamma):\n",
    "        \"\"\"Gaussian Lasso loss\"\"\"\n",
    "        #initOmega = numpy.ones(y.shape[1], y.shape[1])\n",
    "        #initbeta = numpy.zeros((X.shape[1], Y.shape[1]))\n",
    "        b = numpy.reshape(beta, (-1, y.shape[0]))\n",
    "        om = numpy.reshape(Omega, (-1, y.shape[0]))\n",
    "        yp = self._pred(X, b)\n",
    "        loss = numpy.trace(numpy.dot(numpy.dot((y - yp.transpose()).transpose(), om),(y - yp.transpose())))/(2*X.shape[0]) - 0.5 * numpy.log(numpy.linalg.det(om)) + \\\n",
    "               alpha * numpy.sum(abs(b)) + gamma * sum([abs(om[i][j]) for i in range(y.shape[0]) for j in range(10) if i!=j])\n",
    "        #print(loss)\n",
    "        return loss\n",
    "\n",
    "    def fit_GaussLasso(self,X,y,param,omega,alpha=0.0,gamma=0,method='CG'):\n",
    "        #initw = numpy.random.rand(X.shape[1]) #initial weights\n",
    "        initb =numpy.reshape(param, (-1, y.shape[0]))\n",
    "        res = minimize(self.GaussLasso,\n",
    "                    initb,\n",
    "                    args=(X,y,omega,alpha,gamma),\n",
    "                    method=method)\n",
    "        return res\n",
    "\n",
    "    def run_GaussianLasso(self, *args):\n",
    "        X = args[0]\n",
    "        y = args[1]\n",
    "        param = args[2]\n",
    "        alpha = args[3]\n",
    "        omega = args[4]\n",
    "        gamma = args[5]\n",
    "        method = args[6]\n",
    "        fit = self.fit_GaussLasso(X=X, y=y, param=param, alpha=alpha, omega=omega, gamma=gamma, method=method)\n",
    "        param = numpy.reshape(fit.x, (-1, y.shape[0]))\n",
    "        y_fitted = self._pred(X, param)\n",
    "        residual = y - y_fitted.transpose()\n",
    "        return fit, param, residual.transpose()\n",
    "\n",
    "    def bic_lambda(self, X, y, omega, beta_hat):\n",
    "        \"\"\"BIC for model selection\"\"\"\n",
    "        b = numpy.reshape(beta_hat, (-1, y.shape[0]))\n",
    "        yp = self._pred(X, b)\n",
    "        bic = -numpy.trace(numpy.dot(numpy.dot((y - yp.transpose()).transpose(), omega),(y - yp.transpose())))/X.shape[0] + numpy.log(X.shape[0])* numpy.count_nonzero(b)\n",
    "\n",
    "        return bic\n",
    "\n",
    "    def bic_gamma(self, X, y, omega, beta_hat, J):\n",
    "        \"\"\"BIC for model selection\"\"\"\n",
    "        b = numpy.reshape(beta_hat, (-1, y.shape[0]))\n",
    "        yp = self._pred(X, b)\n",
    "        bic = -numpy.trace(numpy.dot(numpy.dot((y - yp.transpose()).transpose(), omega), (y - yp.transpose())))/X.shape[0] + numpy.log(X.shape[0])* (numpy.count_nonzero(omega) - J)/2\n",
    "        return bic\n",
    "\n",
    "class volatilities_spillover:\n",
    "\n",
    "    def get_ts_vo_spillover(self, error):\n",
    "        \"\"\"error is the dict of forecast error\"\"\"\n",
    "        for ii in range(len(error['ERROR'])):\n",
    "            error['ERROR'][ii] = error['ERROR'][ii].iloc[::-1].reset_index(drop=True)\n",
    "\n",
    "        Y_vs = pandas.DataFrame([error['ERROR'][ii].iloc[0, :] for ii in range(len(error['ERROR']))])\n",
    "        tckr_list = ['WTI', 'GASOLINE', 'HH', 'ETHANOL', 'CORN', 'WHEAT', 'SOYBEAN', 'SUGAR', 'COTTON', 'COFFE']\n",
    "        X_vs_columns = [tckr + f'_H{i}' for i in range(5, 0, -1) for tckr in tckr_list]\n",
    "        X_vs = pandas.DataFrame()\n",
    "        for ii in range(len(error['ERROR'])):\n",
    "            Xvs_temp = pandas.DataFrame()\n",
    "            X_temp = error['ERROR'][ii].stack()\n",
    "            for iii in range(5):\n",
    "                Xvs_temp = pandas.concat([Xvs_temp, X_temp[iii]])\n",
    "            Xvs_temp = Xvs_temp.transpose()\n",
    "            Xvs_temp.columns = X_vs_columns\n",
    "            X_vs = pandas.concat([X_vs, Xvs_temp], axis=0)\n",
    "\n",
    "        return X_vs, Y_vs\n",
    "\n",
    "    def get_theta_ma(self, error, tckr_list = ['WTI', 'GASOLINE', 'HH', 'ETHANOL', 'CORN', 'WHEAT', 'SOYBEAN', 'SUGAR', 'COTTON', 'COFFE']):\n",
    "        \"\"\"get theta_hat for volatility spillover computation\"\"\"\n",
    "        X_vs, Y_vs = self.get_ts_vo_spillover(error)\n",
    "        theta = pandas.DataFrame(numpy.dot(numpy.linalg.inv(numpy.dot(X_vs.transpose(), X_vs)),\n",
    "                                           numpy.dot(X_vs.transpose(), Y_vs))).transpose()\n",
    "        theta.index = tckr_list\n",
    "        theta.columns = X_vs.columns\n",
    "\n",
    "        return theta\n",
    "    \n",
    "    def variance_by_kcom(self, j_com, k_com, theta, sigma_hat, h = 5):\n",
    "        # j!=k, j_vector is the selection vector of length J with unity entry as its kth element and zeros elsewhere\n",
    "        j_vec = numpy.zeros(10)\n",
    "        j_vec[j_com] = 1\n",
    "        k_vec = numpy.zeros(10)\n",
    "        k_vec[k_com] = 1\n",
    "\n",
    "        # nominator\n",
    "        sigma_kk = sigma_hat.iloc[k_com,k_com]\n",
    "        nominator = 0\n",
    "        denominator  = 0\n",
    "        for ii in range(1, 6):\n",
    "            theta_p = theta.iloc[:,(ii-1)*10: ii*10]\n",
    "            nominator += numpy.dot(numpy.dot(numpy.dot(j_vec, theta_p),sigma_hat), k_vec)**2\n",
    "            denominator += numpy.dot(numpy.dot(numpy.dot(numpy.dot(j_vec, theta_p), sigma_hat), theta_p.transpose()), j_vec)\n",
    "            \n",
    "        w_jk = nominator / (sigma_kk *denominator)\n",
    "        return w_jk\n",
    "\n",
    "    def vol_spillover(self, j_com, k_com, theta, sigma_hat, com_list=numpy.arange(0, 10)):\n",
    "    \n",
    "        w_array = []\n",
    "        for k in com_list:\n",
    "            w_array.append(self.variance_by_kcom(j_com, k, theta, sigma_hat))\n",
    "\n",
    "        w_jk = self.variance_by_kcom(j_com, k_com,theta, sigma_hat)\n",
    "\n",
    "        return 100*w_jk/numpy.sum(w_array)\n",
    "\n",
    "def main(start_date, estimation_length, no_lag, alpha, gamma, lasso_method, initparam = None):\n",
    "    result_dict = {}\n",
    "    deg_freedom = 10\n",
    "    J = 10\n",
    "    method = 'Powell'\n",
    "    X_init, Y_init = get_input(start_date, estimation_length, no_lag) #include intercept\n",
    "    clf = Lasso()\n",
    "    omega = numpy.eye(Y_init.shape[1])\n",
    "    if initparam is None:\n",
    "        initparam = numpy.zeros((X_init.shape[1], Y_init.shape[1]))\n",
    "    initresi = (Y_init.transpose() - clf._pred(X_init, initparam).transpose()).transpose()\n",
    "\n",
    "    \"\"\" degree of freedom\n",
    "        dimension=10\n",
    "        omega\n",
    "        residual\n",
    "        X\n",
    "        Y\"\"\"\n",
    "    if lasso_method == 't_lasso':\n",
    "        X, Y = clf.tLasso_weightedData(deg_freedom, J, omega, initresi, X_init, Y_init)\n",
    "        X = numpy.array(pandas.concat([pandas.DataFrame(X), pandas.Series(numpy.ones(X.shape[0]))], axis = 1))\n",
    "        loss = clf.GaussLasso(initparam, X, Y.transpose(), omega, alpha, gamma)\n",
    "        stop_point = 10\n",
    "        while stop_point > 0.01 and loss > 0.0001:\n",
    "            gaussian_lasso, param, resi = clf.run_GaussianLasso(X, Y.transpose(), initparam, alpha, omega,\n",
    "                                                                gamma, method)\n",
    "            initparam = gaussian_lasso.x\n",
    "            #omega = numpy.linalg.inv(numpy.cov(resi.transpose()))\n",
    "            sigma = numpy.cov(resi.transpose())\n",
    "            X, Y = clf.tLasso_weightedData(deg_freedom, J, omega, resi, X_init, Y_init)\n",
    "            X = numpy.array(pandas.concat([pandas.DataFrame(X), pandas.Series(numpy.ones(X.shape[0]))], axis=1))\n",
    "            stop_point = abs(loss - gaussian_lasso.fun)\n",
    "            loss = gaussian_lasso.fun\n",
    "\n",
    "            print(stop_point)\n",
    "\n",
    "        bic_lambda = clf.bic_lambda(X_init, Y_init.transpose(), omega, initparam)\n",
    "        bic_gamma = clf.bic_gamma(X_init, Y_init.transpose(), omega, initparam, J)\n",
    "        result_dict['beta_hat'] = initparam\n",
    "        result_dict['sigma_hat'] = sigma\n",
    "        result_dict['loss'] = [loss, bic_lambda, bic_gamma]\n",
    "\n",
    "        print('No. of lags:' + str(no_lag) + ' ' + 'Alpha:' + str(alpha) + ' ' + 'Gamma:' + str(gamma))\n",
    "        print(datetime.datetime.now())\n",
    "        print('estimate beta_hat done!')\n",
    "\n",
    "    elif lasso_method == 'gaussian_lasso':\n",
    "        X, Y = X_init, Y_init\n",
    "        gaussian_lasso, param, resi = clf.run_GaussianLasso(X, Y.transpose(), initparam, alpha, omega,\n",
    "                                                            gamma, method)\n",
    "        initparam = gaussian_lasso.x\n",
    "        #omega = numpy.linalg.inv(numpy.cov(resi.transpose()))\n",
    "        sigma = numpy.cov(resi.transpose())\n",
    "        loss = gaussian_lasso.fun\n",
    "        result_dict['beta_hat'] = initparam\n",
    "        result_dict['sigma_hat'] = sigma\n",
    "        result_dict['loss'] = loss\n",
    "\n",
    "        print(datetime.datetime.now())\n",
    "        print('estimate beta_hat done!')\n",
    "\n",
    "    return X_init, Y_init, result_dict\n",
    "\n",
    "def get_hsteps_residual(pred_start, no_lag, result, h_step = 5, J = 10):\n",
    "    \"\"\"for volatility spillovers\"\"\"\n",
    "    \"\"\"using data from est_start to est_start + est_length + no_lag to run tLasso --> get beta_hat\"\"\"\n",
    "    \"\"\"using the beta_hat to get the h_step ahead forecast with the period between est_start to est_start + est_length + no_lag \"\"\"\n",
    "    lasso = Lasso()\n",
    "    Y_predict = pandas.DataFrame()\n",
    "    ts = None\n",
    "    for s in range(1, h_step + 1):\n",
    "        X_predict, ts = get_predictors(ts=ts, pred_start=pred_start, no_lag=no_lag)\n",
    "        prediction = pandas.DataFrame(lasso._pred(X_predict, numpy.reshape(result['beta_hat'], (-1, J))))\n",
    "        prediction = pandas.concat([prediction, pandas.DataFrame([0, 0, 0, 0, 0, 0, 0, 0, 0, 0]).transpose()], axis=0,\n",
    "                                   ignore_index=True)\n",
    "        prediction.columns = ts.columns\n",
    "        Y_predict = pandas.concat([Y_predict, prediction.iloc[:-1, :]], axis=0)\n",
    "        ts = pandas.concat([ts, prediction], axis=0)\n",
    "    return Y_predict, result['sigma_hat']\n",
    "\n",
    "def get_hsteps_ahead_forecast(result, pred_start, no_lag, h_step, J):\n",
    "    \"\"\"for forecast model performance\"\"\"\n",
    "    #X_input, Y_input, result = main(est_date, est_length, no_lag, alpha, gamma, lasso_method)\n",
    "    lasso = Lasso()\n",
    "    Y_predict = pandas.DataFrame()\n",
    "    ts = None\n",
    "    for s in range(1, h_step + 1):\n",
    "        X_predict, ts = get_predictors(ts=ts, pred_start=pred_start, no_lag=no_lag)\n",
    "        prediction = pandas.DataFrame(lasso._pred(X_predict, numpy.reshape(result['beta_hat'], (-1, J))))\n",
    "        prediction = pandas.concat([prediction, pandas.DataFrame([0, 0, 0, 0, 0, 0, 0, 0, 0, 0]).transpose()], axis=0,\n",
    "                                   ignore_index = True)\n",
    "        prediction.columns = ts.columns\n",
    "        Y_predict = pandas.concat([Y_predict, prediction.iloc[:-1,:]], axis=0)\n",
    "        ts = pandas.concat([ts, prediction], axis=0)\n",
    "\n",
    "    return Y_predict, result['sigma_hat']"
   ]
  },
  {
   "cell_type": "markdown",
   "metadata": {},
   "source": [
    "# Data Exploratory Analysis"
   ]
  },
  {
   "cell_type": "code",
   "execution_count": 3,
   "metadata": {},
   "outputs": [],
   "source": [
    "df = get_df()\n",
    "tckr_list = ['WTI', 'GASOLINE', 'HH', 'ETHANOL', 'CORN', 'WHEAT', 'SOYBEAN', 'SUGAR', 'COTTON', 'COFFE']"
   ]
  },
  {
   "cell_type": "code",
   "execution_count": 4,
   "metadata": {},
   "outputs": [
    {
     "name": "stdout",
     "output_type": "stream",
     "text": [
      "----------------\n",
      "WTI\n",
      "ADF Statistic: -2.295042\n",
      "p-value: 0.173572\n",
      "Critical Values:\n",
      "\t1%: -3.436\n",
      "\t5%: -2.864\n",
      "\t10%: -2.568\n",
      "----------------\n",
      "GASOLINE\n",
      "ADF Statistic: -2.529789\n",
      "p-value: 0.108394\n",
      "Critical Values:\n",
      "\t1%: -3.436\n",
      "\t5%: -2.864\n",
      "\t10%: -2.568\n",
      "----------------\n",
      "HH\n",
      "ADF Statistic: -4.121746\n",
      "p-value: 0.000891\n",
      "Critical Values:\n",
      "\t1%: -3.436\n",
      "\t5%: -2.864\n",
      "\t10%: -2.568\n",
      "----------------\n",
      "ETHANOL\n",
      "ADF Statistic: -2.924898\n",
      "p-value: 0.042528\n",
      "Critical Values:\n",
      "\t1%: -3.436\n",
      "\t5%: -2.864\n",
      "\t10%: -2.568\n",
      "----------------\n",
      "CORN\n",
      "ADF Statistic: -4.855307\n",
      "p-value: 0.000043\n",
      "Critical Values:\n",
      "\t1%: -3.436\n",
      "\t5%: -2.864\n",
      "\t10%: -2.568\n",
      "----------------\n",
      "WHEAT\n",
      "ADF Statistic: -6.761532\n",
      "p-value: 0.000000\n",
      "Critical Values:\n",
      "\t1%: -3.436\n",
      "\t5%: -2.864\n",
      "\t10%: -2.568\n",
      "----------------\n",
      "SOYBEAN\n",
      "ADF Statistic: -5.123078\n",
      "p-value: 0.000013\n",
      "Critical Values:\n",
      "\t1%: -3.436\n",
      "\t5%: -2.864\n",
      "\t10%: -2.568\n",
      "----------------\n",
      "SUGAR\n",
      "ADF Statistic: -3.863564\n",
      "p-value: 0.002320\n",
      "Critical Values:\n",
      "\t1%: -3.436\n",
      "\t5%: -2.864\n",
      "\t10%: -2.568\n",
      "----------------\n",
      "COTTON\n",
      "ADF Statistic: -7.745954\n",
      "p-value: 0.000000\n",
      "Critical Values:\n",
      "\t1%: -3.436\n",
      "\t5%: -2.864\n",
      "\t10%: -2.568\n",
      "----------------\n",
      "COFFE\n",
      "ADF Statistic: -10.971779\n",
      "p-value: 0.000000\n",
      "Critical Values:\n",
      "\t1%: -3.436\n",
      "\t5%: -2.864\n",
      "\t10%: -2.568\n"
     ]
    }
   ],
   "source": [
    "\"\"\"Stationary test\"\"\"\n",
    "for tckr in tckr_list:\n",
    "    result = adfuller(df[tckr])\n",
    "    print('----------------')\n",
    "    print(tckr)\n",
    "    print('ADF Statistic: %f' % result[0])\n",
    "    print('p-value: %f' % result[1])\n",
    "    print('Critical Values:')\n",
    "    for key, value in result[4].items():\n",
    "     print('\\t%s: %.3f' % (key, value))"
   ]
  },
  {
   "cell_type": "code",
   "execution_count": 5,
   "metadata": {},
   "outputs": [
    {
     "data": {
      "text/plain": [
       "[<matplotlib.lines.Line2D at 0x1ad7fda77c8>]"
      ]
     },
     "execution_count": 5,
     "metadata": {},
     "output_type": "execute_result"
    },
    {
     "data": {
      "image/png": "[encoded data removed]",
      "text/plain": [
       "<Figure size 432x288 with 1 Axes>"
      ]
     },
     "metadata": {
      "needs_background": "light"
     },
     "output_type": "display_data"
    }
   ],
   "source": [
    "plt.plot(df['WTI'])"
   ]
  },
  {
   "cell_type": "code",
   "execution_count": 6,
   "metadata": {},
   "outputs": [
    {
     "data": {
      "text/plain": [
       "[<matplotlib.lines.Line2D at 0x1ad0075a188>]"
      ]
     },
     "execution_count": 6,
     "metadata": {},
     "output_type": "execute_result"
    },
    {
     "data": {
      "image/png": "[encoded data removed]",
      "text/plain": [
       "<Figure size 432x288 with 1 Axes>"
      ]
     },
     "metadata": {
      "needs_background": "light"
     },
     "output_type": "display_data"
    }
   ],
   "source": [
    "plt.plot(df['GASOLINE'])"
   ]
  },
  {
   "cell_type": "markdown",
   "metadata": {},
   "source": [
    "# Grid Search for optimal model"
   ]
  },
  {
   "cell_type": "code",
   "execution_count": null,
   "metadata": {},
   "outputs": [],
   "source": [
    "start_date = datetime.datetime(2012, 1, 3)\n",
    "estimation_length = 220\n",
    "\n",
    "optimizer_dict = {}\n",
    "optimizer_dict['no_lag'] = [1, 10]\n",
    "optimizer_dict['alpha'] = [0.2, 0.4, 0.6, 0.8, 1.0]\n",
    "optimizer_dict['gamma'] = [0.2, 0.4, 0.6, 0.8, 1.0]\n",
    "\n",
    "result_dict = {}\n",
    "result_dict['optimizer_tckr'] = []\n",
    "result_dict['beta_hat'] = []\n",
    "result_dict['sigma_hat'] = []\n",
    "result_dict['loss'] = []\n",
    "\n",
    "for no_lag in optimizer_dict['no_lag']:\n",
    "    for alpha in optimizer_dict['alpha']:\n",
    "        for gamma in optimizer_dict['gamma']:\n",
    "            _, _, result = main(start_date,estimation_length, no_lag, alpha, gamma, 'gaussian_lasso')\n",
    "            result_dict['optimizer_tckr'].append('L' + str(no_lag) + '_ALPHA' + str(alpha) + '_GAMMA' + str(gamma))\n",
    "            result_dict['beta_hat'].append(result['beta_hat'])\n",
    "            result_dict['sigma_hat'].append(result['sigma_hat'])\n",
    "            result_dict['loss'].append(result['loss'])\n",
    "\n",
    "pickle_write('optimization.pickle', result_dict)"
   ]
  },
  {
   "cell_type": "markdown",
   "metadata": {},
   "source": [
    "# Configuration"
   ]
  },
  {
   "cell_type": "code",
   "execution_count": 7,
   "metadata": {},
   "outputs": [],
   "source": [
    "est_length = 220\n",
    "no_lag = 5\n",
    "alpha = 1\n",
    "gamma = 0.2\n",
    "h_step = 5\n",
    "J = 10\n",
    "lasso = Lasso()"
   ]
  },
  {
   "cell_type": "markdown",
   "metadata": {},
   "source": [
    "# Volatility Spillovers"
   ]
  },
  {
   "cell_type": "markdown",
   "metadata": {},
   "source": [
    "    #######################################################\n",
    "    ############## End of Window: Oct 28, 2016 ############\n",
    "    #######################################################"
   ]
  },
  {
   "cell_type": "code",
   "execution_count": 49,
   "metadata": {
    "collapsed": true,
    "jupyter": {
     "outputs_hidden": true
    }
   },
   "outputs": [
    {
     "name": "stdout",
     "output_type": "stream",
     "text": [
      "2.857464849361932\n",
      "15.96523386495264\n",
      "9.65366306114467\n",
      "5.203062148015487\n",
      "4.401054614719092\n",
      "2.9019308005186186\n",
      "2.4550422916383745\n",
      "1.7822370080522738\n",
      "1.5091438578102316\n",
      "1.1484721215538851\n",
      "0.9709735130476957\n",
      "0.7610333473352178\n",
      "0.6420456894110664\n",
      "0.511731565491548\n",
      "0.4300676876031915\n",
      "0.3471318426988681\n",
      "0.29155753091739456\n",
      "0.23713031526369832\n",
      "0.19921890623248117\n",
      "0.16278784397660928\n",
      "0.13694229857257412\n",
      "0.11216594286219994\n",
      "0.09459542851280567\n",
      "0.07750862540221704\n",
      "0.06562316773256427\n",
      "0.053679079699820775\n",
      "0.04570474565574223\n",
      "0.03723512962721287\n",
      "0.03195580260982567\n",
      "0.025852254528984986\n",
      "0.022430754431715272\n",
      "0.01795188697991179\n",
      "0.015813289849004875\n",
      "0.012455935435191634\n",
      "0.01120567156744201\n",
      "0.008620960631185781\n",
      "No. of lags:5 Alpha:1 Gamma:1\n",
      "2024-01-18 23:12:48.442624\n",
      "estimate beta_hat done!\n"
     ]
    },
    {
     "ename": "TypeError",
     "evalue": "'DataFrame' object cannot be interpreted as an integer",
     "output_type": "error",
     "traceback": [
      "\u001b[1;31m---------------------------------------------------------------------------\u001b[0m",
      "\u001b[1;31mTypeError\u001b[0m                                 Traceback (most recent call last)",
      "\u001b[1;32m<ipython-input-49-0ddac26a2a77>\u001b[0m in \u001b[0;36m<module>\u001b[1;34m\u001b[0m\n\u001b[0;32m     12\u001b[0m \u001b[1;32mfor\u001b[0m \u001b[0mi\u001b[0m \u001b[1;32min\u001b[0m \u001b[0mrange\u001b[0m\u001b[1;33m(\u001b[0m\u001b[1;36m220\u001b[0m \u001b[1;33m-\u001b[0m \u001b[1;36m5\u001b[0m\u001b[1;33m)\u001b[0m\u001b[1;33m:\u001b[0m\u001b[1;33m\u001b[0m\u001b[1;33m\u001b[0m\u001b[0m\n\u001b[0;32m     13\u001b[0m     \u001b[0mpred_start\u001b[0m \u001b[1;33m=\u001b[0m \u001b[0mdf\u001b[0m\u001b[1;33m[\u001b[0m\u001b[1;34m'DATE'\u001b[0m\u001b[1;33m]\u001b[0m\u001b[1;33m[\u001b[0m\u001b[0mstart_index\u001b[0m\u001b[1;33m[\u001b[0m\u001b[1;36m0\u001b[0m\u001b[1;33m]\u001b[0m \u001b[1;33m+\u001b[0m \u001b[0mno_lag\u001b[0m \u001b[1;33m+\u001b[0m \u001b[0mi\u001b[0m\u001b[1;33m]\u001b[0m\u001b[1;33m\u001b[0m\u001b[1;33m\u001b[0m\u001b[0m\n\u001b[1;32m---> 14\u001b[1;33m     \u001b[0mhstep_forecast\u001b[0m\u001b[1;33m,\u001b[0m \u001b[0msigma_hat\u001b[0m \u001b[1;33m=\u001b[0m \u001b[0mget_hsteps_residual\u001b[0m\u001b[1;33m(\u001b[0m\u001b[0mpred_start\u001b[0m\u001b[1;33m,\u001b[0m \u001b[0mno_lag\u001b[0m\u001b[1;33m,\u001b[0m \u001b[0mresult\u001b[0m\u001b[1;33m,\u001b[0m \u001b[0mX_tlasso\u001b[0m\u001b[1;33m,\u001b[0m \u001b[0mY_tlasson\u001b[0m\u001b[1;33m)\u001b[0m\u001b[1;33m\u001b[0m\u001b[1;33m\u001b[0m\u001b[0m\n\u001b[0m\u001b[0;32m     15\u001b[0m     \u001b[0mY_real\u001b[0m \u001b[1;33m=\u001b[0m \u001b[0mdf\u001b[0m\u001b[1;33m[\u001b[0m\u001b[0mdf\u001b[0m\u001b[1;33m[\u001b[0m\u001b[1;34m'DATE'\u001b[0m\u001b[1;33m]\u001b[0m \u001b[1;33m>=\u001b[0m \u001b[0mpred_start\u001b[0m\u001b[1;33m]\u001b[0m\u001b[1;33m.\u001b[0m\u001b[0miloc\u001b[0m\u001b[1;33m[\u001b[0m\u001b[1;33m:\u001b[0m\u001b[0mh_step\u001b[0m\u001b[1;33m,\u001b[0m \u001b[1;36m1\u001b[0m\u001b[1;33m:\u001b[0m\u001b[1;33m]\u001b[0m\u001b[1;33m\u001b[0m\u001b[1;33m\u001b[0m\u001b[0m\n\u001b[0;32m     16\u001b[0m     \u001b[0mforecast_error\u001b[0m \u001b[1;33m=\u001b[0m \u001b[0mY_real\u001b[0m\u001b[1;33m.\u001b[0m\u001b[0mreset_index\u001b[0m\u001b[1;33m(\u001b[0m\u001b[0mdrop\u001b[0m\u001b[1;33m=\u001b[0m\u001b[1;32mTrue\u001b[0m\u001b[1;33m)\u001b[0m \u001b[1;33m-\u001b[0m \u001b[0mhstep_forecast\u001b[0m\u001b[1;33m.\u001b[0m\u001b[0mreset_index\u001b[0m\u001b[1;33m(\u001b[0m\u001b[0mdrop\u001b[0m\u001b[1;33m=\u001b[0m\u001b[1;32mTrue\u001b[0m\u001b[1;33m)\u001b[0m\u001b[1;33m\u001b[0m\u001b[1;33m\u001b[0m\u001b[0m\n",
      "\u001b[1;32m<ipython-input-36-764fb57bf715>\u001b[0m in \u001b[0;36mget_hsteps_residual\u001b[1;34m(pred_start, no_lag, result, h_step, J)\u001b[0m\n\u001b[0;32m    296\u001b[0m     \u001b[0mY_predict\u001b[0m \u001b[1;33m=\u001b[0m \u001b[0mpandas\u001b[0m\u001b[1;33m.\u001b[0m\u001b[0mDataFrame\u001b[0m\u001b[1;33m(\u001b[0m\u001b[1;33m)\u001b[0m\u001b[1;33m\u001b[0m\u001b[1;33m\u001b[0m\u001b[0m\n\u001b[0;32m    297\u001b[0m     \u001b[0mts\u001b[0m \u001b[1;33m=\u001b[0m \u001b[1;32mNone\u001b[0m\u001b[1;33m\u001b[0m\u001b[1;33m\u001b[0m\u001b[0m\n\u001b[1;32m--> 298\u001b[1;33m     \u001b[1;32mfor\u001b[0m \u001b[0ms\u001b[0m \u001b[1;32min\u001b[0m \u001b[0mrange\u001b[0m\u001b[1;33m(\u001b[0m\u001b[1;36m1\u001b[0m\u001b[1;33m,\u001b[0m \u001b[0mh_step\u001b[0m \u001b[1;33m+\u001b[0m \u001b[1;36m1\u001b[0m\u001b[1;33m)\u001b[0m\u001b[1;33m:\u001b[0m\u001b[1;33m\u001b[0m\u001b[1;33m\u001b[0m\u001b[0m\n\u001b[0m\u001b[0;32m    299\u001b[0m         \u001b[0mX_predict\u001b[0m\u001b[1;33m,\u001b[0m \u001b[0mts\u001b[0m \u001b[1;33m=\u001b[0m \u001b[0mget_predictors\u001b[0m\u001b[1;33m(\u001b[0m\u001b[0mts\u001b[0m\u001b[1;33m=\u001b[0m\u001b[0mts\u001b[0m\u001b[1;33m,\u001b[0m \u001b[0mpred_start\u001b[0m\u001b[1;33m=\u001b[0m\u001b[0mpred_start\u001b[0m\u001b[1;33m,\u001b[0m \u001b[0mno_lag\u001b[0m\u001b[1;33m=\u001b[0m\u001b[0mno_lag\u001b[0m\u001b[1;33m)\u001b[0m\u001b[1;33m\u001b[0m\u001b[1;33m\u001b[0m\u001b[0m\n\u001b[0;32m    300\u001b[0m         \u001b[0mprediction\u001b[0m \u001b[1;33m=\u001b[0m \u001b[0mpandas\u001b[0m\u001b[1;33m.\u001b[0m\u001b[0mDataFrame\u001b[0m\u001b[1;33m(\u001b[0m\u001b[0mlasso\u001b[0m\u001b[1;33m.\u001b[0m\u001b[0m_pred\u001b[0m\u001b[1;33m(\u001b[0m\u001b[0mX_predict\u001b[0m\u001b[1;33m,\u001b[0m \u001b[0mnumpy\u001b[0m\u001b[1;33m.\u001b[0m\u001b[0mreshape\u001b[0m\u001b[1;33m(\u001b[0m\u001b[0mresult\u001b[0m\u001b[1;33m[\u001b[0m\u001b[1;34m'beta_hat'\u001b[0m\u001b[1;33m]\u001b[0m\u001b[1;33m,\u001b[0m \u001b[1;33m(\u001b[0m\u001b[1;33m-\u001b[0m\u001b[1;36m1\u001b[0m\u001b[1;33m,\u001b[0m \u001b[0mJ\u001b[0m\u001b[1;33m)\u001b[0m\u001b[1;33m)\u001b[0m\u001b[1;33m)\u001b[0m\u001b[1;33m)\u001b[0m\u001b[1;33m\u001b[0m\u001b[1;33m\u001b[0m\u001b[0m\n",
      "\u001b[1;31mTypeError\u001b[0m: 'DataFrame' object cannot be interpreted as an integer"
     ]
    }
   ],
   "source": [
    "end_rollingwindow = datetime.datetime(2016, 10, 28)\n",
    "start_index = df[df.DATE == end_rollingwindow].index - est_length - no_lag\n",
    "est_start = df['DATE'][start_index[0]]\n",
    "pred_start = df['DATE'][start_index[0] + no_lag]\n",
    "#### get param\n",
    "X_tlasso, Y_tlasson, result = main(est_start, est_length, no_lag, alpha, gamma, 't_lasso', None)\n",
    "\n",
    "#### get hsteps ahead forecasts\n",
    "forecast_error_dict = {}\n",
    "forecast_error_dict['DATE'] = []\n",
    "forecast_error_dict['ERROR'] = []\n",
    "for i in range(220 - 5):\n",
    "    pred_start = df['DATE'][start_index[0] + no_lag + i]\n",
    "    hstep_forecast, sigma_hat = get_hsteps_residual(pred_start, no_lag, result, h_step, J)\n",
    "    Y_real = df[df['DATE'] >= pred_start].iloc[:h_step, 1:]\n",
    "    forecast_error = Y_real.reset_index(drop=True) - hstep_forecast.reset_index(drop=True)\n",
    "    forecast_error_dict['DATE'].append(pred_start)  # df.iloc[i+est_length+no_lag+h_step-1]['DATE'])\n",
    "    forecast_error_dict['ERROR'].append(forecast_error)\n",
    "\n",
    "#### volatilities spillover\n",
    "sigma_hat = pandas.DataFrame(result['sigma_hat'])\n",
    "\n",
    "vol_spillover = volatilities_spillover()\n",
    "theta_hat = vol_spillover.get_theta_ma(forecast_error_dict)\n",
    "\n",
    "vol_spill_dict = {}\n",
    "vol_spill_dict['j_com'] = []\n",
    "vol_spill_dict['k_com'] = []\n",
    "vol_spill_dict['spillover'] = []\n",
    "for j_com in range(J):\n",
    "    for k_com in range(J):\n",
    "        if j_com != k_com:\n",
    "            vol_spill_dict['j_com'].append(j_com)\n",
    "            vol_spill_dict['k_com'].append(k_com)\n",
    "            vol_spill_dict['spillover'].append(vol_spillover.vol_spillover(j_com, k_com, theta_hat, sigma_hat))\n",
    "\n",
    "spillover = pandas.DataFrame([vol_spill_dict['j_com'], vol_spill_dict['k_com'], vol_spill_dict['spillover']]).transpose()\n",
    "spillover.columns = ['J_COM', 'K_COM', 'SPILLOVER']\n",
    "spillover = spillover.set_index(['J_COM', 'K_COM']).unstack()\n",
    "spillover = pandas.DataFrame(numpy.where(spillover > numpy.nanpercentile(spillover, 85), spillover, numpy.nan))\n",
    "spillover.columns = [tckr_list[i] for i in range(0, 10)]\n",
    "spillover.index = [tckr_list[i] for i in range(0, 10)]\n",
    "sns.heatmap(spillover, cmap='crest')"
   ]
  },
  {
   "cell_type": "markdown",
   "metadata": {},
   "source": [
    "    # #######################################################\n",
    "    # ############## End of Window: Fed, 5, 2015 ###########\n",
    "    # #######################################################"
   ]
  },
  {
   "cell_type": "code",
   "execution_count": 49,
   "metadata": {
    "collapsed": true,
    "jupyter": {
     "outputs_hidden": true
    }
   },
   "outputs": [
    {
     "name": "stdout",
     "output_type": "stream",
     "text": [
      "2.857464849361932\n",
      "15.96523386495264\n",
      "9.65366306114467\n",
      "5.203062148015487\n",
      "4.401054614719092\n",
      "2.9019308005186186\n",
      "2.4550422916383745\n",
      "1.7822370080522738\n",
      "1.5091438578102316\n",
      "1.1484721215538851\n",
      "0.9709735130476957\n",
      "0.7610333473352178\n",
      "0.6420456894110664\n",
      "0.511731565491548\n",
      "0.4300676876031915\n",
      "0.3471318426988681\n",
      "0.29155753091739456\n",
      "0.23713031526369832\n",
      "0.19921890623248117\n",
      "0.16278784397660928\n",
      "0.13694229857257412\n",
      "0.11216594286219994\n",
      "0.09459542851280567\n",
      "0.07750862540221704\n",
      "0.06562316773256427\n",
      "0.053679079699820775\n",
      "0.04570474565574223\n",
      "0.03723512962721287\n",
      "0.03195580260982567\n",
      "0.025852254528984986\n",
      "0.022430754431715272\n",
      "0.01795188697991179\n",
      "0.015813289849004875\n",
      "0.012455935435191634\n",
      "0.01120567156744201\n",
      "0.008620960631185781\n",
      "No. of lags:5 Alpha:1 Gamma:1\n",
      "2024-01-18 23:12:48.442624\n",
      "estimate beta_hat done!\n"
     ]
    },
    {
     "ename": "TypeError",
     "evalue": "'DataFrame' object cannot be interpreted as an integer",
     "output_type": "error",
     "traceback": [
      "\u001b[1;31m---------------------------------------------------------------------------\u001b[0m",
      "\u001b[1;31mTypeError\u001b[0m                                 Traceback (most recent call last)",
      "\u001b[1;32m<ipython-input-49-0ddac26a2a77>\u001b[0m in \u001b[0;36m<module>\u001b[1;34m\u001b[0m\n\u001b[0;32m     12\u001b[0m \u001b[1;32mfor\u001b[0m \u001b[0mi\u001b[0m \u001b[1;32min\u001b[0m \u001b[0mrange\u001b[0m\u001b[1;33m(\u001b[0m\u001b[1;36m220\u001b[0m \u001b[1;33m-\u001b[0m \u001b[1;36m5\u001b[0m\u001b[1;33m)\u001b[0m\u001b[1;33m:\u001b[0m\u001b[1;33m\u001b[0m\u001b[1;33m\u001b[0m\u001b[0m\n\u001b[0;32m     13\u001b[0m     \u001b[0mpred_start\u001b[0m \u001b[1;33m=\u001b[0m \u001b[0mdf\u001b[0m\u001b[1;33m[\u001b[0m\u001b[1;34m'DATE'\u001b[0m\u001b[1;33m]\u001b[0m\u001b[1;33m[\u001b[0m\u001b[0mstart_index\u001b[0m\u001b[1;33m[\u001b[0m\u001b[1;36m0\u001b[0m\u001b[1;33m]\u001b[0m \u001b[1;33m+\u001b[0m \u001b[0mno_lag\u001b[0m \u001b[1;33m+\u001b[0m \u001b[0mi\u001b[0m\u001b[1;33m]\u001b[0m\u001b[1;33m\u001b[0m\u001b[1;33m\u001b[0m\u001b[0m\n\u001b[1;32m---> 14\u001b[1;33m     \u001b[0mhstep_forecast\u001b[0m\u001b[1;33m,\u001b[0m \u001b[0msigma_hat\u001b[0m \u001b[1;33m=\u001b[0m \u001b[0mget_hsteps_residual\u001b[0m\u001b[1;33m(\u001b[0m\u001b[0mpred_start\u001b[0m\u001b[1;33m,\u001b[0m \u001b[0mno_lag\u001b[0m\u001b[1;33m,\u001b[0m \u001b[0mresult\u001b[0m\u001b[1;33m,\u001b[0m \u001b[0mX_tlasso\u001b[0m\u001b[1;33m,\u001b[0m \u001b[0mY_tlasson\u001b[0m\u001b[1;33m)\u001b[0m\u001b[1;33m\u001b[0m\u001b[1;33m\u001b[0m\u001b[0m\n\u001b[0m\u001b[0;32m     15\u001b[0m     \u001b[0mY_real\u001b[0m \u001b[1;33m=\u001b[0m \u001b[0mdf\u001b[0m\u001b[1;33m[\u001b[0m\u001b[0mdf\u001b[0m\u001b[1;33m[\u001b[0m\u001b[1;34m'DATE'\u001b[0m\u001b[1;33m]\u001b[0m \u001b[1;33m>=\u001b[0m \u001b[0mpred_start\u001b[0m\u001b[1;33m]\u001b[0m\u001b[1;33m.\u001b[0m\u001b[0miloc\u001b[0m\u001b[1;33m[\u001b[0m\u001b[1;33m:\u001b[0m\u001b[0mh_step\u001b[0m\u001b[1;33m,\u001b[0m \u001b[1;36m1\u001b[0m\u001b[1;33m:\u001b[0m\u001b[1;33m]\u001b[0m\u001b[1;33m\u001b[0m\u001b[1;33m\u001b[0m\u001b[0m\n\u001b[0;32m     16\u001b[0m     \u001b[0mforecast_error\u001b[0m \u001b[1;33m=\u001b[0m \u001b[0mY_real\u001b[0m\u001b[1;33m.\u001b[0m\u001b[0mreset_index\u001b[0m\u001b[1;33m(\u001b[0m\u001b[0mdrop\u001b[0m\u001b[1;33m=\u001b[0m\u001b[1;32mTrue\u001b[0m\u001b[1;33m)\u001b[0m \u001b[1;33m-\u001b[0m \u001b[0mhstep_forecast\u001b[0m\u001b[1;33m.\u001b[0m\u001b[0mreset_index\u001b[0m\u001b[1;33m(\u001b[0m\u001b[0mdrop\u001b[0m\u001b[1;33m=\u001b[0m\u001b[1;32mTrue\u001b[0m\u001b[1;33m)\u001b[0m\u001b[1;33m\u001b[0m\u001b[1;33m\u001b[0m\u001b[0m\n",
      "\u001b[1;32m<ipython-input-36-764fb57bf715>\u001b[0m in \u001b[0;36mget_hsteps_residual\u001b[1;34m(pred_start, no_lag, result, h_step, J)\u001b[0m\n\u001b[0;32m    296\u001b[0m     \u001b[0mY_predict\u001b[0m \u001b[1;33m=\u001b[0m \u001b[0mpandas\u001b[0m\u001b[1;33m.\u001b[0m\u001b[0mDataFrame\u001b[0m\u001b[1;33m(\u001b[0m\u001b[1;33m)\u001b[0m\u001b[1;33m\u001b[0m\u001b[1;33m\u001b[0m\u001b[0m\n\u001b[0;32m    297\u001b[0m     \u001b[0mts\u001b[0m \u001b[1;33m=\u001b[0m \u001b[1;32mNone\u001b[0m\u001b[1;33m\u001b[0m\u001b[1;33m\u001b[0m\u001b[0m\n\u001b[1;32m--> 298\u001b[1;33m     \u001b[1;32mfor\u001b[0m \u001b[0ms\u001b[0m \u001b[1;32min\u001b[0m \u001b[0mrange\u001b[0m\u001b[1;33m(\u001b[0m\u001b[1;36m1\u001b[0m\u001b[1;33m,\u001b[0m \u001b[0mh_step\u001b[0m \u001b[1;33m+\u001b[0m \u001b[1;36m1\u001b[0m\u001b[1;33m)\u001b[0m\u001b[1;33m:\u001b[0m\u001b[1;33m\u001b[0m\u001b[1;33m\u001b[0m\u001b[0m\n\u001b[0m\u001b[0;32m    299\u001b[0m         \u001b[0mX_predict\u001b[0m\u001b[1;33m,\u001b[0m \u001b[0mts\u001b[0m \u001b[1;33m=\u001b[0m \u001b[0mget_predictors\u001b[0m\u001b[1;33m(\u001b[0m\u001b[0mts\u001b[0m\u001b[1;33m=\u001b[0m\u001b[0mts\u001b[0m\u001b[1;33m,\u001b[0m \u001b[0mpred_start\u001b[0m\u001b[1;33m=\u001b[0m\u001b[0mpred_start\u001b[0m\u001b[1;33m,\u001b[0m \u001b[0mno_lag\u001b[0m\u001b[1;33m=\u001b[0m\u001b[0mno_lag\u001b[0m\u001b[1;33m)\u001b[0m\u001b[1;33m\u001b[0m\u001b[1;33m\u001b[0m\u001b[0m\n\u001b[0;32m    300\u001b[0m         \u001b[0mprediction\u001b[0m \u001b[1;33m=\u001b[0m \u001b[0mpandas\u001b[0m\u001b[1;33m.\u001b[0m\u001b[0mDataFrame\u001b[0m\u001b[1;33m(\u001b[0m\u001b[0mlasso\u001b[0m\u001b[1;33m.\u001b[0m\u001b[0m_pred\u001b[0m\u001b[1;33m(\u001b[0m\u001b[0mX_predict\u001b[0m\u001b[1;33m,\u001b[0m \u001b[0mnumpy\u001b[0m\u001b[1;33m.\u001b[0m\u001b[0mreshape\u001b[0m\u001b[1;33m(\u001b[0m\u001b[0mresult\u001b[0m\u001b[1;33m[\u001b[0m\u001b[1;34m'beta_hat'\u001b[0m\u001b[1;33m]\u001b[0m\u001b[1;33m,\u001b[0m \u001b[1;33m(\u001b[0m\u001b[1;33m-\u001b[0m\u001b[1;36m1\u001b[0m\u001b[1;33m,\u001b[0m \u001b[0mJ\u001b[0m\u001b[1;33m)\u001b[0m\u001b[1;33m)\u001b[0m\u001b[1;33m)\u001b[0m\u001b[1;33m)\u001b[0m\u001b[1;33m\u001b[0m\u001b[1;33m\u001b[0m\u001b[0m\n",
      "\u001b[1;31mTypeError\u001b[0m: 'DataFrame' object cannot be interpreted as an integer"
     ]
    }
   ],
   "source": [
    "end_rollingwindow = datetime.datetime(2015, 2, 5)\n",
    "start_index = df[df.DATE == end_rollingwindow].index - est_length - no_lag\n",
    "est_start = df['DATE'][start_index[0]]\n",
    "pred_start = df['DATE'][start_index[0] + no_lag]\n",
    "#### get param\n",
    "X_tlasso, Y_tlasson, result = main(est_start, est_length, no_lag, alpha, gamma, 't_lasso', None)\n",
    "\n",
    "#### get hsteps ahead forecasts\n",
    "forecast_error_dict = {}\n",
    "forecast_error_dict['DATE'] = []\n",
    "forecast_error_dict['ERROR'] = []\n",
    "for i in range(220 - 5):\n",
    "    pred_start = df['DATE'][start_index[0] + no_lag + i]\n",
    "    hstep_forecast, sigma_hat = get_hsteps_residual(pred_start, no_lag, result, h_step, J)\n",
    "    Y_real = df[df['DATE'] >= pred_start].iloc[:h_step, 1:]\n",
    "    forecast_error = Y_real.reset_index(drop=True) - hstep_forecast.reset_index(drop=True)\n",
    "    forecast_error_dict['DATE'].append(pred_start)  # df.iloc[i+est_length+no_lag+h_step-1]['DATE'])\n",
    "    forecast_error_dict['ERROR'].append(forecast_error)\n",
    "\n",
    "#### volatilities spillover\n",
    "sigma_hat = pandas.DataFrame(result['sigma_hat'])\n",
    "\n",
    "vol_spillover = volatilities_spillover()\n",
    "theta_hat = vol_spillover.get_theta_ma(forecast_error_dict)\n",
    "\n",
    "vol_spill_dict = {}\n",
    "vol_spill_dict['j_com'] = []\n",
    "vol_spill_dict['k_com'] = []\n",
    "vol_spill_dict['spillover'] = []\n",
    "for j_com in range(J):\n",
    "    for k_com in range(J):\n",
    "        if j_com != k_com:\n",
    "            vol_spill_dict['j_com'].append(j_com)\n",
    "            vol_spill_dict['k_com'].append(k_com)\n",
    "            vol_spill_dict['spillover'].append(vol_spillover.vol_spillover(j_com, k_com, theta_hat, sigma_hat))\n",
    "\n",
    "spillover = pandas.DataFrame([vol_spill_dict['j_com'], vol_spill_dict['k_com'], vol_spill_dict['spillover']]).transpose()\n",
    "spillover.columns = ['J_COM', 'K_COM', 'SPILLOVER']\n",
    "spillover = spillover.set_index(['J_COM', 'K_COM']).unstack()\n",
    "spillover = pandas.DataFrame(numpy.where(spillover > numpy.nanpercentile(spillover, 85), spillover, numpy.nan))\n",
    "spillover.columns = [tckr_list[i] for i in range(0, 10)]\n",
    "spillover.index = [tckr_list[i] for i in range(0, 10)]\n",
    "sns.heatmap(spillover, cmap='crest')"
   ]
  },
  {
   "cell_type": "markdown",
   "metadata": {},
   "source": [
    "    # #######################################################\n",
    "    # ############## End of Window: Jun, 17, 2014 ###########\n",
    "    # #######################################################"
   ]
  },
  {
   "cell_type": "code",
   "execution_count": null,
   "metadata": {},
   "outputs": [],
   "source": [
    "end_rollingwindow = datetime.datetime(2014, 6, 17)\n",
    "start_index = df[df.DATE == end_rollingwindow].index - est_length - no_lag\n",
    "est_start = df['DATE'][start_index[0]]\n",
    "pred_start = df['DATE'][start_index[0] + no_lag]\n",
    "#### get param\n",
    "X_tlasso, Y_tlasson, result = main(est_start, est_length, no_lag, alpha, gamma, 't_lasso', None)\n",
    "\n",
    "#### get hsteps ahead forecasts\n",
    "forecast_error_dict = {}\n",
    "forecast_error_dict['DATE'] = []\n",
    "forecast_error_dict['ERROR'] = []\n",
    "for i in range(220 - 5):\n",
    "    pred_start = df['DATE'][start_index[0] + no_lag + i]\n",
    "    hstep_forecast, sigma_hat = get_hsteps_residual(pred_start, no_lag, result, h_step, J)\n",
    "    Y_real = df[df['DATE'] >= pred_start].iloc[:h_step, 1:]\n",
    "    forecast_error = Y_real.reset_index(drop=True) - hstep_forecast.reset_index(drop=True)\n",
    "    forecast_error_dict['DATE'].append(pred_start)  # df.iloc[i+est_length+no_lag+h_step-1]['DATE'])\n",
    "    forecast_error_dict['ERROR'].append(forecast_error)\n",
    "\n",
    "#### volatilities spillover\n",
    "sigma_hat = pandas.DataFrame(result['sigma_hat'])\n",
    "\n",
    "vol_spillover = volatilities_spillover()\n",
    "theta_hat = vol_spillover.get_theta_ma(forecast_error_dict)\n",
    "\n",
    "vol_spill_dict = {}\n",
    "vol_spill_dict['j_com'] = []\n",
    "vol_spill_dict['k_com'] = []\n",
    "vol_spill_dict['spillover'] = []\n",
    "for j_com in range(J):\n",
    "    for k_com in range(J):\n",
    "        if j_com != k_com:\n",
    "            vol_spill_dict['j_com'].append(j_com)\n",
    "            vol_spill_dict['k_com'].append(k_com)\n",
    "            vol_spill_dict['spillover'].append(vol_spillover.vol_spillover(j_com, k_com, theta_hat, sigma_hat))\n",
    "\n",
    "spillover = pandas.DataFrame([vol_spill_dict['j_com'], vol_spill_dict['k_com'], vol_spill_dict['spillover']]).transpose()\n",
    "spillover.columns = ['J_COM', 'K_COM', 'SPILLOVER']\n",
    "spillover = spillover.set_index(['J_COM', 'K_COM']).unstack()\n",
    "spillover = pandas.DataFrame(numpy.where(spillover > numpy.nanpercentile(spillover, 85), spillover, numpy.nan))\n",
    "spillover.columns = [tckr_list[i] for i in range(0, 10)]\n",
    "spillover.index = [tckr_list[i] for i in range(0, 10)]\n",
    "sns.heatmap(spillover, cmap='crest')"
   ]
  },
  {
   "cell_type": "markdown",
   "metadata": {},
   "source": [
    "# Forecast Performance"
   ]
  },
  {
   "cell_type": "markdown",
   "metadata": {},
   "source": [
    "### MAE of t-lasso"
   ]
  },
  {
   "cell_type": "code",
   "execution_count": null,
   "metadata": {},
   "outputs": [],
   "source": [
    "h_step = 60\n",
    "ts_length = df.shape[0]\n",
    "forecast_error_dict = {}\n",
    "forecast_error_dict['DATE'] = []\n",
    "forecast_error_dict['ERROR'] = []\n",
    "#forecast_error_dict['SIGMA'] = []\n",
    "initparam = None\n",
    "result = dict()\n",
    "for i in range(100):#ts_length-est_length - no_lag - h_step):\n",
    "    est_start = df.DATE[i]\n",
    "    pred_start = df.DATE[i + est_length + no_lag]\n",
    "    if est_start.weekday() == 1:\n",
    "        _, _, result = qmain(est_start, est_length, no_lag, alpha, gamma, 't_lasso', initparam)\n",
    "    hstep_forecast, sigma_hat = get_hsteps_ahead_forecast(result, pred_start, no_lag, h_step, J)\n",
    "    Y_real = df[df['DATE'] >= pred_start].iloc[:h_step,1:]\n",
    "    forecast_error = Y_real.reset_index(drop=True) - hstep_forecast.reset_index(drop=True)\n",
    "    forecast_error_dict['DATE'].append(pred_start)\n",
    "    forecast_error_dict['ERROR'].append(forecast_error)\n",
    "    initparam = numpy.reshape(result['beta_hat'], (-1, J))\n",
    "\n",
    "    print(i)\n",
    "    print('----')\n",
    "    pickle_write('t_lasso_forecast_error.pickle', forecast_error_dict)"
   ]
  },
  {
   "cell_type": "markdown",
   "metadata": {},
   "source": [
    "## MAE of Gaussian lasso"
   ]
  },
  {
   "cell_type": "code",
   "execution_count": null,
   "metadata": {},
   "outputs": [],
   "source": [
    "h_step = 60\n",
    "ts_length = df.shape[0]\n",
    "forecast_error_dict = {}\n",
    "forecast_error_dict['DATE'] = []\n",
    "forecast_error_dict['ERROR'] = []\n",
    "#forecast_error_dict['SIGMA'] = []\n",
    "initparam = None\n",
    "result = dict()\n",
    "for i in range(100):#ts_length-est_length - no_lag - h_step):\n",
    "    est_start = df.DATE[i]\n",
    "    pred_start = df.DATE[i + est_length + no_lag]\n",
    "    if est_start.weekday() == 1:\n",
    "        _, _, result = qmain(est_start, est_length, no_lag, alpha, gamma, 'gaussian_lasso', initparam)\n",
    "    hstep_forecast, sigma_hat = get_hsteps_ahead_forecast(result, pred_start, no_lag, h_step, J)\n",
    "    Y_real = df[df['DATE'] >= pred_start].iloc[:h_step,1:]\n",
    "    forecast_error = Y_real.reset_index(drop=True) - hstep_forecast.reset_index(drop=True)\n",
    "    forecast_error_dict['DATE'].append(pred_start)\n",
    "    forecast_error_dict['ERROR'].append(forecast_error)\n",
    "    initparam = numpy.reshape(result['beta_hat'], (-1, J))\n",
    "\n",
    "    print(i)\n",
    "    print('----')\n",
    "    pickle_write('g_lasso_forecast_error.pickle', forecast_error_dict)"
   ]
  },
  {
   "cell_type": "markdown",
   "metadata": {},
   "source": [
    "## Performance Comparision"
   ]
  },
  {
   "cell_type": "code",
   "execution_count": 8,
   "metadata": {},
   "outputs": [],
   "source": [
    "g=pandas.read_csv('g_error.csv')\n",
    "t=pandas.read_csv('t_error.csv')"
   ]
  },
  {
   "cell_type": "code",
   "execution_count": 9,
   "metadata": {},
   "outputs": [],
   "source": [
    "h_step = 1\n",
    "mae_g1=[]\n",
    "for i in g['DATE'].unique():\n",
    "    mae_g1.append(numpy.mean(abs(g[g['DATE'] == i].iloc[h_step-1,:-1])))\n",
    "mae_t1 = []\n",
    "for i in t['DATE'].unique():\n",
    "    mae_t1.append(numpy.mean(abs(t[t['DATE'] == i].iloc[h_step-1,:-1])))"
   ]
  },
  {
   "cell_type": "code",
   "execution_count": 10,
   "metadata": {},
   "outputs": [
    {
     "name": "stdout",
     "output_type": "stream",
     "text": [
      "0.8642523502461441\n",
      "0.8809086643352038\n"
     ]
    }
   ],
   "source": [
    "print(numpy.mean(mae_t1))\n",
    "print(numpy.mean(mae_g1))"
   ]
  },
  {
   "cell_type": "code",
   "execution_count": 11,
   "metadata": {},
   "outputs": [
    {
     "name": "stdout",
     "output_type": "stream",
     "text": [
      "0.5692307692307692\n"
     ]
    }
   ],
   "source": [
    "# Relative advantage of t-lasso vs Gaussian lasso\n",
    "ra=0\n",
    "for i in range(len(mae_t1)):\n",
    "    if mae_t1[i] < mae_g1[i]:\n",
    "        ra+=1\n",
    "print(ra/len(mae_t1))"
   ]
  },
  {
   "cell_type": "code",
   "execution_count": 12,
   "metadata": {},
   "outputs": [],
   "source": [
    "h_step = 5\n",
    "mae_g5=[]\n",
    "for i in g['DATE'].unique():\n",
    "    mae_g5.append(numpy.mean(abs(g[g['DATE'] == i].iloc[h_step-1,:-1])))\n",
    "mae_t5 = []\n",
    "for i in t['DATE'].unique():\n",
    "    mae_t5.append(numpy.mean(abs(t[t['DATE'] == i].iloc[h_step-1,:-1])))"
   ]
  },
  {
   "cell_type": "code",
   "execution_count": 13,
   "metadata": {},
   "outputs": [
    {
     "name": "stdout",
     "output_type": "stream",
     "text": [
      "0.9571447249044426\n",
      "0.9755878406638689\n"
     ]
    }
   ],
   "source": [
    "print(numpy.mean(mae_t5))\n",
    "print(numpy.mean(mae_g5))"
   ]
  },
  {
   "cell_type": "code",
   "execution_count": 14,
   "metadata": {},
   "outputs": [
    {
     "name": "stdout",
     "output_type": "stream",
     "text": [
      "0.5897435897435898\n"
     ]
    }
   ],
   "source": [
    "# Relative advantage of t-lasso vs Gaussian lasso\n",
    "ra=0\n",
    "for i in range(len(mae_t5)):\n",
    "    if mae_t5[i] < mae_g5[i]:\n",
    "        ra+=1\n",
    "print(ra/len(mae_t5))"
   ]
  },
  {
   "cell_type": "code",
   "execution_count": 15,
   "metadata": {},
   "outputs": [],
   "source": [
    "h_step = 20\n",
    "mae_g20=[]\n",
    "for i in g['DATE'].unique():\n",
    "    mae_g20.append(numpy.mean(abs(g[g['DATE'] == i].iloc[h_step-1,:-1])))\n",
    "mae_t20 = []\n",
    "for i in t['DATE'].unique():\n",
    "    mae_t20.append(numpy.mean(abs(t[t['DATE'] == i].iloc[h_step-1,:-1])))"
   ]
  },
  {
   "cell_type": "code",
   "execution_count": 16,
   "metadata": {},
   "outputs": [
    {
     "name": "stdout",
     "output_type": "stream",
     "text": [
      "1.3094528476833787\n",
      "1.231852395231843\n"
     ]
    }
   ],
   "source": [
    "print(numpy.mean(mae_t20))\n",
    "print(numpy.mean(mae_g20))"
   ]
  },
  {
   "cell_type": "code",
   "execution_count": 17,
   "metadata": {},
   "outputs": [
    {
     "name": "stdout",
     "output_type": "stream",
     "text": [
      "0.2964102564102564\n"
     ]
    }
   ],
   "source": [
    "# Relative advantage of t-lasso vs Gaussian lasso\n",
    "ra=0\n",
    "for i in range(len(mae_t20)):\n",
    "    if mae_t20[i] < mae_g20[i]:\n",
    "        ra+=1\n",
    "print(ra/len(mae_t20))"
   ]
  },
  {
   "cell_type": "code",
   "execution_count": 18,
   "metadata": {},
   "outputs": [],
   "source": [
    "h_step = 60\n",
    "mae_g60=[]\n",
    "for i in g['DATE'].unique():\n",
    "    mae_g60.append(numpy.mean(abs(g[g['DATE'] == i].iloc[h_step-1,:-1])))\n",
    "mae_t60 = []\n",
    "for i in t['DATE'].unique():\n",
    "    mae_t60.append(numpy.mean(abs(t[t['DATE'] == i].iloc[h_step-1,:-1])))"
   ]
  },
  {
   "cell_type": "code",
   "execution_count": 19,
   "metadata": {},
   "outputs": [
    {
     "name": "stdout",
     "output_type": "stream",
     "text": [
      "2.632955526589275\n",
      "2.2168260582346977\n"
     ]
    }
   ],
   "source": [
    "print(numpy.mean(mae_t60))\n",
    "print(numpy.mean(mae_g60))"
   ]
  },
  {
   "cell_type": "code",
   "execution_count": 20,
   "metadata": {},
   "outputs": [
    {
     "name": "stdout",
     "output_type": "stream",
     "text": [
      "0.050256410256410255\n"
     ]
    }
   ],
   "source": [
    "# Relative advantage of t-lasso vs Gaussian lasso\n",
    "ra=0\n",
    "for i in range(len(mae_t60)):\n",
    "    if mae_t60[i] < mae_g60[i]:\n",
    "        ra+=1\n",
    "print(ra/len(mae_t60))"
   ]
  },
  {
   "cell_type": "code",
   "execution_count": 21,
   "metadata": {},
   "outputs": [
    {
     "data": {
      "text/plain": [
       "<matplotlib.legend.Legend at 0x1ad008655c8>"
      ]
     },
     "execution_count": 21,
     "metadata": {},
     "output_type": "execute_result"
    },
    {
     "data": {
      "image/png": "[encoded data removed]",
      "text/plain": [
       "<Figure size 432x288 with 1 Axes>"
      ]
     },
     "metadata": {
      "needs_background": "light"
     },
     "output_type": "display_data"
    }
   ],
   "source": [
    "plt.plot(mae_t1, label ='t')\n",
    "plt.plot(mae_g1, label ='g')\n",
    "plt.legend()"
   ]
  },
  {
   "cell_type": "code",
   "execution_count": 22,
   "metadata": {},
   "outputs": [
    {
     "data": {
      "text/plain": [
       "<matplotlib.legend.Legend at 0x1ad7fdbf088>"
      ]
     },
     "execution_count": 22,
     "metadata": {},
     "output_type": "execute_result"
    },
    {
     "data": {
      "image/png": "[encoded data removed]",
      "text/plain": [
       "<Figure size 432x288 with 1 Axes>"
      ]
     },
     "metadata": {
      "needs_background": "light"
     },
     "output_type": "display_data"
    }
   ],
   "source": [
    "plt.plot(mae_t5, label ='t')\n",
    "plt.plot(mae_g5, label ='g')\n",
    "plt.legend()"
   ]
  },
  {
   "cell_type": "code",
   "execution_count": 23,
   "metadata": {},
   "outputs": [
    {
     "data": {
      "text/plain": [
       "<matplotlib.legend.Legend at 0x1ad0090ed48>"
      ]
     },
     "execution_count": 23,
     "metadata": {},
     "output_type": "execute_result"
    },
    {
     "data": {
      "image/png": "[encoded data removed]",
      "text/plain": [
       "<Figure size 432x288 with 1 Axes>"
      ]
     },
     "metadata": {
      "needs_background": "light"
     },
     "output_type": "display_data"
    }
   ],
   "source": [
    "plt.plot(mae_t20, label ='t')\n",
    "plt.plot(mae_g20, label ='g')\n",
    "plt.legend()"
   ]
  },
  {
   "cell_type": "code",
   "execution_count": 24,
   "metadata": {},
   "outputs": [
    {
     "data": {
      "text/plain": [
       "<matplotlib.legend.Legend at 0x1ad00986e08>"
      ]
     },
     "execution_count": 24,
     "metadata": {},
     "output_type": "execute_result"
    },
    {
     "data": {
      "image/png": "[encoded data removed]",
      "text/plain": [
       "<Figure size 432x288 with 1 Axes>"
      ]
     },
     "metadata": {
      "needs_background": "light"
     },
     "output_type": "display_data"
    }
   ],
   "source": [
    "plt.plot(mae_t60, label ='t')\n",
    "plt.plot(mae_g60, label ='g')\n",
    "plt.legend()"
   ]
  },
  {
   "cell_type": "code",
   "execution_count": 68,
   "metadata": {},
   "outputs": [
    {
     "data": {
      "text/plain": [
       "array(0.61232655)"
      ]
     },
     "execution_count": 68,
     "metadata": {},
     "output_type": "execute_result"
    }
   ],
   "source": [
    "numpy.cov(mae_t60)"
   ]
  },
  {
   "cell_type": "code",
   "execution_count": 67,
   "metadata": {},
   "outputs": [
    {
     "data": {
      "text/plain": [
       "array(0.54697163)"
      ]
     },
     "execution_count": 67,
     "metadata": {},
     "output_type": "execute_result"
    }
   ],
   "source": [
    "numpy.cov(mae_g60)"
   ]
  }
 ],
 "metadata": {
  "kernelspec": {
   "display_name": "Python 3",
   "language": "python",
   "name": "python3"
  },
  "language_info": {
   "codemirror_mode": {
    "name": "ipython",
    "version": 3
   },
   "file_extension": ".py",
   "mimetype": "text/x-python",
   "name": "python",
   "nbconvert_exporter": "python",
   "pygments_lexer": "ipython3",
   "version": "3.7.6"
  }
 },
 "nbformat": 4,
 "nbformat_minor": 4
}
